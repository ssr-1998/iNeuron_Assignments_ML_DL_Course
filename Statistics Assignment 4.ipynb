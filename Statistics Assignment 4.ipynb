{
 "cells": [
  {
   "cell_type": "markdown",
   "metadata": {},
   "source": [
    "# Statistics Assignment 4\n",
    "### Importing Libraries"
   ]
  },
  {
   "cell_type": "code",
   "execution_count": null,
   "metadata": {},
   "outputs": [],
   "source": [
    "import numpy as np\n",
    "import pandas as pd\n",
    "import scipy.stats as stats"
   ]
  },
  {
   "cell_type": "markdown",
   "metadata": {},
   "source": [
    "### Problem Statement 1:\n",
    ">Is gender independent of education level? A random sample of 395 people were\n",
    "surveyed and each person was asked to report the highest education level they\n",
    "obtained. The data that resulted from the survey is summarized in the following table:<br><br>\n",
    "High School Bachelors Masters Ph.d. Total<br>\n",
    "Female 60 54 46 41 201<br>\n",
    "Male 40 44 53 57 194<br>\n",
    "Total 100 98 99 98 395<br><br>\n",
    "Question: Are gender and education level dependent at 5% level of significance? In\n",
    "other words, given the data collected above, is there a relationship between the\n",
    "gender of an individual and the level of education that they have obtained?"
   ]
  },
  {
   "cell_type": "code",
   "execution_count": 1,
   "metadata": {},
   "outputs": [
    {
     "name": "stdout",
     "output_type": "stream",
     "text": [
      "[40, 44, 53, 57, 60, 54, 46, 41]\n",
      "      Education  Marks Sex\n",
      "0  High_schools     40   M\n",
      "1      Bechlors     44   M\n",
      "2       Masters     53   M\n",
      "3           Phd     57   M\n",
      "4  High_schools     60   F\n",
      "5      Bechlors     54   F\n",
      "6       Masters     46   F\n",
      "7           Phd     41   F\n"
     ]
    }
   ],
   "source": [
    "male=[40,44,53,57]\n",
    "female=[60,54,46,41]\n",
    "High_schools=[60,40]\n",
    "Bechlors=[54,44]\n",
    "Masters=[46,53]\n",
    "Phd=[41,57]\n",
    "\n",
    "marks=male+female\n",
    "print(marks)\n",
    "sex=['M','M','M','M','F','F','F','F']\n",
    "education=['High_schools','Bechlors','Masters','Phd','High_schools','Bechlors','Masters','Phd']\n",
    "DF=pd.DataFrame({'Education':education,'Marks':marks,'Sex':sex})\n",
    "DF\n",
    "print(DF)"
   ]
  },
  {
   "cell_type": "markdown",
   "metadata": {},
   "source": [
    "### Problem Statement 2:\n",
    ">Using the following data, perform a oneway analysis of variance using α=.05. Write\n",
    "up the results in APA format.<br><br>\n",
    "[Group1: 51, 45, 33, 45, 67]<br>\n",
    "[Group2: 23, 43, 23, 43, 45]<br>\n",
    "[Group3: 56, 76, 74, 87, 56]"
   ]
  },
  {
   "cell_type": "code",
   "execution_count": 6,
   "metadata": {},
   "outputs": [
    {
     "name": "stdout",
     "output_type": "stream",
     "text": [
      "F Statistic value9.747205503009463,p-value 0.0030597541434430556\n",
      "True\n",
      "-------------------------------------------------------------------------------------------------------------------\n",
      "The test result suggests that groups have different same sample means in this example,since the p-value is significant at a 99% confident level. Here the p-value returned is 0.00305 which is <0.05 \n"
     ]
    }
   ],
   "source": [
    "import scipy.stats as stats\n",
    "Group1= [51, 45, 33, 45, 67] \n",
    "Group2= [23, 43, 23, 43, 45]\n",
    "Group3= [56, 76, 74, 87, 56]\n",
    "#perform the ANOVA\n",
    "statistic, pvalue =stats.f_oneway(Group1,Group2,Group3)\n",
    "print(\"F Statistic value{},p-value {}\".format(statistic,pvalue))\n",
    "if pvalue < 0.05:\n",
    "    print('True')\n",
    "else:\n",
    "    print('False')\n",
    "print(\"-\"*115)\n",
    "print(\"The test result suggests that groups have different same sample means in this example,since the p-value is significant at a 99% confident level. Here the p-value returned is 0.00305 which is <0.05 \")"
   ]
  },
  {
   "cell_type": "markdown",
   "metadata": {},
   "source": [
    "### Problem Statement 3:\n",
    ">Calculate F Test for given 10, 20, 30, 40, 50 and 5,10,15, 20, 25.<br>\n",
    "For 10, 20, 30, 40, 50:"
   ]
  },
  {
   "cell_type": "code",
   "execution_count": 2,
   "metadata": {},
   "outputs": [
    {
     "name": "stdout",
     "output_type": "stream",
     "text": [
      "F Test for given 10, 20, 30, 40, 50 and 5,10,15, 20, 25 is :  4.0\n"
     ]
    }
   ],
   "source": [
    "stats.f_oneway([10, 20, 30, 40, 50],[5,10,15, 20, 25])\n",
    "Group1=[10, 20, 30, 40, 50]\n",
    "Group2=[5,10,15, 20, 25]\n",
    "mean_1=np.mean(Group1)\n",
    "mean_2=np.mean(Group2)\n",
    "grp1_sub_mean1= []\n",
    "grp2_sub_mean2= []\n",
    "add1 = 0\n",
    "add2 = 0\n",
    "for items in Group1:\n",
    "    add1 += (items - mean_1)**2\n",
    "for items in Group2:\n",
    "    add2 += (items - mean_2)**2\n",
    "var1= add1/(len(Group1)-1)\n",
    "var2=add2/(len(Group2)-1)\n",
    "\n",
    "F_test = var1/var2\n",
    "print(\"F Test for given 10, 20, 30, 40, 50 and 5,10,15, 20, 25 is : \",F_test)"
   ]
  },
  {
   "cell_type": "code",
   "execution_count": null,
   "metadata": {},
   "outputs": [],
   "source": []
  }
 ],
 "metadata": {
  "kernelspec": {
   "display_name": "Python 3",
   "language": "python",
   "name": "python3"
  },
  "language_info": {
   "codemirror_mode": {
    "name": "ipython",
    "version": 3
   },
   "file_extension": ".py",
   "mimetype": "text/x-python",
   "name": "python",
   "nbconvert_exporter": "python",
   "pygments_lexer": "ipython3",
   "version": "3.8.8"
  }
 },
 "nbformat": 4,
 "nbformat_minor": 4
}
