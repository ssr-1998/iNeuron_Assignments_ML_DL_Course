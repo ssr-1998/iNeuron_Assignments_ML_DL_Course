{
 "cells": [
  {
   "cell_type": "markdown",
   "metadata": {},
   "source": [
    "# Statistics Assignment 1\n",
    "### Importing Libraries"
   ]
  },
  {
   "cell_type": "code",
   "execution_count": 1,
   "metadata": {},
   "outputs": [],
   "source": [
    "import numpy as np\n",
    "import pandas as pd\n",
    "import seaborn as sns\n",
    "import statistics as st\n",
    "import math\n",
    "import statistics"
   ]
  },
  {
   "cell_type": "markdown",
   "metadata": {},
   "source": [
    "### Problem Statement 1:\n",
    ">The marks awarded for an assignment set for a Year 8 class of 20 students were as follows:<br><br>\n",
    "6, 7, 5, 7, 7, 8, 7, 6, 9, 7, 4, 10, 6, 8, 8, 9, 5, 6, 4, 8<br><br>\n",
    "Calculate the mean, median, mode and standard deviation."
   ]
  },
  {
   "cell_type": "code",
   "execution_count": 2,
   "metadata": {},
   "outputs": [
    {
     "name": "stdout",
     "output_type": "stream",
     "text": [
      "Mean: 6.85\n",
      "Mode: 7\n",
      "Median: 7.0\n"
     ]
    }
   ],
   "source": [
    "marks = [6, 7, 5, 7, 7, 8, 7, 6, 9, 7, 4, 10, 6, 8, 8, 9, 5, 6, 4, 8]\n",
    "\n",
    "print(\"Mean:\", st.mean(marks))\n",
    "print(\"Mode:\", st.mode(marks))\n",
    "print(\"Median:\", st.median(marks))"
   ]
  },
  {
   "cell_type": "markdown",
   "metadata": {},
   "source": [
    "### Problem Statement 2:\n",
    ">The number of calls from motorists per day for roadside service was recorded for a particular month:<br><br>\n",
    "28, 122, 217, 130, 120, 86, 80, 90, 140, 120, 70, 40, 145, 113, 90, 68, 174, 194, 170, 100, 75, 104, 97, 75, 123, 100, 75, 104, 97, 75, 123, 100, 89, 120, 109<br><br>\n",
    "Calculate the mean, median, mode and standard deviation"
   ]
  },
  {
   "cell_type": "code",
   "execution_count": 3,
   "metadata": {},
   "outputs": [
    {
     "name": "stdout",
     "output_type": "stream",
     "text": [
      "Mean: 107\n",
      "Median: 100\n",
      "Mode: 75\n"
     ]
    }
   ],
   "source": [
    "calls_per_day = [28, 122, 217, 130, 120, 86, 80, 90, 140, 120, 70, 40, 145, 113, 90, 68, 174, 194,\n",
    "                170, 100, 75, 104, 97, 75, 123, 100, 75, 104, 97, 75, 123, 100, 89, 120, 109]\n",
    "print(\"Mean:\", int(st.mean(calls_per_day)))\n",
    "print(\"Median:\", int(st.median(calls_per_day)))\n",
    "print(\"Mode:\", int(st.mode(calls_per_day)))"
   ]
  },
  {
   "cell_type": "markdown",
   "metadata": {},
   "source": [
    "### Problem Statement 3:\n",
    ">The number of times I go to the gym in weekdays, are given below along with its associated probability:<br><br>\n",
    "x = 0, 1, 2, 3, 4, 5 f(x) = 0.09, 0.15, 0.40, 0.25, 0.10, 0.01<br><br>\n",
    "Calculate the mean no. of workouts in a week. Also evaluate the variance involved in it"
   ]
  },
  {
   "cell_type": "code",
   "execution_count": 4,
   "metadata": {},
   "outputs": [
    {
     "name": "stdout",
     "output_type": "stream",
     "text": [
      "Mean is :  0.16666666666666666\n",
      "Variance is :  0.016088888888888892\n"
     ]
    }
   ],
   "source": [
    "prob = 0.09, 0.15, 0.40, 0.25, 0.10, 0.01\n",
    "\n",
    "mean = sum(prob)/len(prob)\n",
    "print(\"Mean is : \", mean)\n",
    "\n",
    "var = statistics.pvariance(prob)\n",
    "print(\"Variance is : \", var)"
   ]
  },
  {
   "cell_type": "markdown",
   "metadata": {},
   "source": [
    "### Problem Statement 4:\n",
    ">Let the continuous random variable D denote the diameter of the hole drilled in an aluminum sheet. The target diameter to be achieved is 12.5mm. Random disturbances in the process often result in inaccuracy. Historical data shows that the distribution of D can be modelled by the PDF (𝑑) = 20𝑒−20(𝑑−12.5), 𝑑 ≥ 12.5. If a part with diameter > 12.6 mm needs to be scrapped, what is the proportion of those parts? What is the CDF when the diameter is of 11 mm? What is your conclusion regarding the proportion of scraps?"
   ]
  },
  {
   "cell_type": "markdown",
   "metadata": {},
   "source": [
    "This is an example to Continuous Random variable\n",
    "$\\int_{-\\infty}^{\\infty}$ f(x) dx\n",
    "\n",
    "we know that area under curve = 1\n",
    "$\\int_a^b$ where a = 12.5 and b = 12.6"
   ]
  },
  {
   "cell_type": "code",
   "execution_count": 5,
   "metadata": {},
   "outputs": [],
   "source": [
    "# f(x) = 20𝑒−20(x−12.5)\n",
    "# on solving we got area b/w 12.5 and 12.6 = 0.865\n",
    "# Diameter greater than 12.6 need to be scrapped\n",
    "# So 1 - 0.865 = 0.135"
   ]
  },
  {
   "cell_type": "code",
   "execution_count": 6,
   "metadata": {},
   "outputs": [],
   "source": [
    "# What is the CDF when the diameter is of 11 mm?\n",
    "# f(x) will become very very large, that tends to be an infinity"
   ]
  },
  {
   "cell_type": "markdown",
   "metadata": {},
   "source": [
    "### Problem Statement 5:\n",
    ">A company manufactures LED bulbs with a faulty rate of 30%. If I randomly select 6\n",
    "chosen LEDs, what is the probability of having 2 faulty LEDs in my sample?\n",
    "Calculate the average value of this process. Also evaluate the standard deviation\n",
    "associated with it."
   ]
  },
  {
   "cell_type": "code",
   "execution_count": 7,
   "metadata": {},
   "outputs": [
    {
     "name": "stdout",
     "output_type": "stream",
     "text": [
      "The probability of having 2 faulty LEDs is : 0.32\n",
      "The Standard Deviation is : 0.56\n"
     ]
    }
   ],
   "source": [
    "n = 6\n",
    "x = 2\n",
    "p = 0.3\n",
    "\n",
    "print(\"The probability of having 2 faulty LEDs is : 0.32\")\n",
    "print(\"The Standard Deviation is : 0.56\")"
   ]
  },
  {
   "cell_type": "markdown",
   "metadata": {},
   "source": [
    "### Problem Statement 6:\n",
    ">Gaurav and Barakha are both preparing for entrance exams. Gaurav attempts to solve 8 questions per day with a correction rate of 75%, while Barakha averages around 12 questions per day with a correction rate of 45%. What is the probability that each of them will solve 5 questions correctly? What happens in cases of 4 and 6 correct solutions? What do you infer from it? What are the two main governing factors affecting their ability to solve questions correctly? Give a pictorial representation of the same to validate your answer."
   ]
  },
  {
   "cell_type": "code",
   "execution_count": 8,
   "metadata": {},
   "outputs": [
    {
     "name": "stdout",
     "output_type": "stream",
     "text": [
      "Gaurav :\n",
      "\t Probability of solve 4 questions correctly is : 0.08\n",
      "\t Probability of solve 5 questions correctly is : 0.20\n",
      "\t Probability of solve 6 questions correctly is : 0.31\n",
      "Barakha :\n",
      "\t Probability of solve 4 questions correctly is : 0.16\n",
      "\t Probability of solve 5 questions correctly is : 0.22\n",
      "\t Probability of solve 6 questions correctly is : 0.21\n"
     ]
    }
   ],
   "source": [
    "# Gaurav : \n",
    "\n",
    "# He attempts to solve 8 questions per day with a correction rate of 75%.\n",
    "n = 8\n",
    "p = 0.75\n",
    "x = 4,5,6\n",
    "\n",
    "print(\"Gaurav :\")\n",
    "print(\"\\t Probability of solve 4 questions correctly is : 0.08\")\n",
    "print(\"\\t Probability of solve 5 questions correctly is : 0.20\")\n",
    "print(\"\\t Probability of solve 6 questions correctly is : 0.31\")\n",
    "\n",
    "\n",
    "# Barakha : \n",
    "\n",
    "# She attempts to solve 12 questions per day with a correction rate of 45%.\n",
    "n = 12\n",
    "p = 0.45\n",
    "x = 4,5,6\n",
    "\n",
    "print(\"Barakha :\")\n",
    "print(\"\\t Probability of solve 4 questions correctly is : 0.16\"),\n",
    "print(\"\\t Probability of solve 5 questions correctly is : 0.22\")\n",
    "print(\"\\t Probability of solve 6 questions correctly is : 0.21\")"
   ]
  },
  {
   "cell_type": "markdown",
   "metadata": {},
   "source": [
    "### Problem Statement 7:\n",
    ">Customers arrive at a rate of 72 per hour to my shop. What is the probability of 𝑘 customers arriving in 4 minutes?<br><br>a) 5 customers,<br>b) not more than 3 customers,<br>c) more than 3 customers. Give a pictorial representation of the same to validate your answer."
   ]
  },
  {
   "cell_type": "code",
   "execution_count": 9,
   "metadata": {},
   "outputs": [
    {
     "name": "stdout",
     "output_type": "stream",
     "text": [
      "Probability of 𝑘 customers arriving in 4 minutes is : 5\n"
     ]
    }
   ],
   "source": [
    "# If Customers arrive at a rate of 72 per hour to my shop\n",
    "per_minute = 72/60\n",
    "\n",
    "# Probability of 𝑘 customers arriving in 4 minutes is : \"per_minute*4\"\n",
    "\n",
    "print(\"Probability of 𝑘 customers arriving in 4 minutes is :\", round(per_minute * 4))"
   ]
  },
  {
   "cell_type": "markdown",
   "metadata": {},
   "source": [
    "### Problem Statement 8:\n",
    ">I work as a data analyst in Aeon Learning Pvt. Ltd. After analyzing data, I make reports, where I have the efficiency of entering 77 words per minute with 6 errors per hour.<br><br>What is the probability that I will commit 2 errors in a 455-word financial report?<br><br>What happens when the no. of words increases/decreases (in case of 1000 words, 255 words)? How is the 𝜆 affected? How does it influence the PMF?<br><br>Give a pictorial representation of the same to validate your answer."
   ]
  },
  {
   "cell_type": "code",
   "execution_count": 10,
   "metadata": {},
   "outputs": [
    {
     "data": {
      "text/plain": [
       "0.09682651841129084"
      ]
     },
     "execution_count": 10,
     "metadata": {},
     "output_type": "execute_result"
    }
   ],
   "source": [
    "# What is the probability that I will commit 2 errors in a 455-word financial report?\n",
    "# in an interval of 455 words \n",
    "\n",
    "u = 455 * 0.0013\n",
    "p2 = math.exp(-u) * math.pow(u,2) / math.factorial(2)\n",
    "p2"
   ]
  },
  {
   "cell_type": "code",
   "execution_count": 11,
   "metadata": {},
   "outputs": [
    {
     "name": "stdout",
     "output_type": "stream",
     "text": [
      "0.23028936511374065 0.03944286463025426\n"
     ]
    }
   ],
   "source": [
    "# What happens when the no. of words increases/decreases (in case of 1000 words,255 words)?\n",
    "u = 1000 * 0.0013\n",
    "p1000 = math.exp(-u) * math.pow(u,2) / math.factorial(2)\n",
    "\n",
    "u = 255 * 0.0013\n",
    "p255 = math.exp(-u) * math.pow(u,2) / math.factorial(2)\n",
    "\n",
    "print(p1000, p255)"
   ]
  },
  {
   "cell_type": "code",
   "execution_count": 12,
   "metadata": {},
   "outputs": [],
   "source": [
    "# How is the 𝜆 affected?\n",
    "𝜆255 = 0.3315\n",
    "𝜆1000 = 1.3\n",
    "# As no of words increases, mean value of getting error introduced is more"
   ]
  },
  {
   "cell_type": "markdown",
   "metadata": {},
   "source": [
    "### Problem Statement 9:\n",
    ">Let the continuous random variable D denote the diameter of the hole drilled in an aluminum sheet. The target diameter to be achieved is 12.5mm. Random disturbances in the process often result in inaccuracy. Historical data shows that the distribution of D can be modelled by the PDF, f(d) = 20e−20(d−12.5), d ≥ 12.5. If a part with diameter > 12.6 mm needs to be scrapped, what is the proportion of those parts? What is the CDF when the diameter is of 11 mm? What is the conclusion of this experiment?"
   ]
  },
  {
   "cell_type": "markdown",
   "metadata": {},
   "source": [
    "**This is already solved as a part of Problem 4**"
   ]
  },
  {
   "cell_type": "markdown",
   "metadata": {},
   "source": [
    "### Problem Statement 10:\n",
    ">Please compute the following: a) P(Z > 1.26), . P(Z < −0.86), P(Z > −1.37), P(−1.25 < Z < 0.37), . P(Z ≤ −4.6) b) Find the value 𝑧 such that 𝑃(𝑍 > 𝑧) = 0.05 c) Find the value of 𝑧 such that 𝑃(−𝑧 < 𝑍 < 𝑧) = 0.99"
   ]
  },
  {
   "cell_type": "code",
   "execution_count": 13,
   "metadata": {},
   "outputs": [
    {
     "name": "stdout",
     "output_type": "stream",
     "text": [
      "a : \n",
      "\t P(Z > 1.26)          =  0.1038\n",
      "\t P(Z < −0.86)         =  0.19489\n",
      "\t P(Z > −1.37)         =  0.9146\n",
      "\t P(−1.25 < Z < 0.37)  =  0.8942\n",
      "b :\n",
      "\t The value 𝑧 is 1.65\n",
      "c :\n",
      "\t The value 𝑧 is 2.57\n"
     ]
    }
   ],
   "source": [
    "print(\"a : \")\n",
    "print(\"\\t P(Z > 1.26)          =  0.1038\")\n",
    "print(\"\\t P(Z < −0.86)         =  0.19489\")\n",
    "print(\"\\t P(Z > −1.37)         =  0.9146\")\n",
    "print(\"\\t P(−1.25 < Z < 0.37)  =  0.8942\")\n",
    "\n",
    "print(\"b :\")\n",
    "print(\"\\t The value 𝑧 is 1.65\")\n",
    "\n",
    "print(\"c :\")\n",
    "print(\"\\t The value 𝑧 is 2.57\")"
   ]
  },
  {
   "cell_type": "markdown",
   "metadata": {},
   "source": [
    "### Problem Statement 11:\n",
    ">The current flow in a copper wire follow a normal distribution with a mean of 10 𝑚A and a variance of 4 (𝑚𝐴)2. What is the probability that a current measurement will exceed 13 𝑚𝐴? What is the probability that a current measurement is between 9 and 11mA? Determine the current measurement which has a probability of 0.98."
   ]
  },
  {
   "cell_type": "code",
   "execution_count": 14,
   "metadata": {},
   "outputs": [
    {
     "data": {
      "text/plain": [
       "0.06679999999999997"
      ]
     },
     "execution_count": 14,
     "metadata": {},
     "output_type": "execute_result"
    }
   ],
   "source": [
    "mean = 10\n",
    "𝜎 = math.sqrt(4)\n",
    "# It follows normal distribution\n",
    "# z = (x - mean)/𝜎\n",
    "z = (13 - 10)/𝜎\n",
    "# p(x>13) = p(z>1.5)\n",
    "# from z-table, p(1.5) = 0.9332\n",
    "# p(z>1.5) = 1 - 0.9332\n",
    "p = 1 - 0.9332\n",
    "p"
   ]
  },
  {
   "cell_type": "code",
   "execution_count": 15,
   "metadata": {},
   "outputs": [],
   "source": [
    "# What is the probability that a current measurement is between 9 and 11mA?\n",
    "# p(9 < x < 11) => p(-0.5 < z < 0.5)\n",
    "# p = p(z<0.5) - p(-0.5<z) \n",
    "# => p = 0.6915 - 0.3830 = 0.3830"
   ]
  },
  {
   "cell_type": "code",
   "execution_count": 16,
   "metadata": {},
   "outputs": [
    {
     "data": {
      "text/plain": [
       "14.16"
      ]
     },
     "execution_count": 16,
     "metadata": {},
     "output_type": "execute_result"
    }
   ],
   "source": [
    "# Determine the current measurement which has a probability of 0.98.\n",
    "# from z-table z=2.08 has the probability of 0.98\n",
    "# from standard normal value, we know\n",
    "# Let x being the current\n",
    "# z = (x - mean)/𝜎\n",
    "# => 2.08 = (x - 10)/2\n",
    "x = (2.08 * 2) + 10\n",
    "x"
   ]
  },
  {
   "cell_type": "markdown",
   "metadata": {},
   "source": [
    "### Problem Statement 12:\n",
    ">The shaft in a piston has its diameter normally distributed with a mean of 0.2508 inch and a standard deviation of 0.0005 inch.<br><br>\n",
    "The specifications of the shaft are 0.2500 ∓ 0.0015 inch.<br><br>\n",
    "What proportion of shafts are in sync with the specifications?<br><br>\n",
    "If the process is centered so that the mean is equal to the target value of 0.2500, what proportion of shafts conform to the new specifications?<br><br>\n",
    "What is your conclusion from this experiment?"
   ]
  },
  {
   "cell_type": "code",
   "execution_count": 17,
   "metadata": {},
   "outputs": [
    {
     "data": {
      "text/plain": [
       "0.9192"
      ]
     },
     "execution_count": 17,
     "metadata": {},
     "output_type": "execute_result"
    }
   ],
   "source": [
    "# Given:\n",
    "# u = 0.2508 inch\n",
    "# 𝜎 = 0.0005 inch\n",
    "# (0.2500-0.0015) < x < (0.2500+0.0015) => 0.2485 < x < 0.2515\n",
    "# Standard normal value is given by\n",
    "# z = (x - mean)/𝜎\n",
    "z1 = (.2485 - .2508)/.0005\n",
    "z2 = (.2515 - .2508)/.0005\n",
    "\n",
    "# P ( 0.2485 < X <0.2515 ) = P(−4.6 <Z <1.4)\n",
    "#  p(z < 1.4) - p(z > -4.6)\n",
    "p = .9192 - 0\n",
    "p"
   ]
  },
  {
   "cell_type": "code",
   "execution_count": 18,
   "metadata": {},
   "outputs": [
    {
     "data": {
      "text/plain": [
       "0.9192"
      ]
     },
     "execution_count": 18,
     "metadata": {},
     "output_type": "execute_result"
    }
   ],
   "source": [
    "# What proportion of shafts are in sync with the specifications?\n",
    "0.9192"
   ]
  },
  {
   "cell_type": "code",
   "execution_count": 19,
   "metadata": {},
   "outputs": [
    {
     "data": {
      "text/plain": [
       "0.9974000000000001"
      ]
     },
     "execution_count": 19,
     "metadata": {},
     "output_type": "execute_result"
    }
   ],
   "source": [
    "# If the process is centered so that the mean is equal to the target value of 0.2500, what proportion of shafts conform to the new specifications? \n",
    "# u = 0.2500\n",
    "# x lies between 0.2485 < x < 0.2515\n",
    "# Standard normal value is given by\n",
    "# z = (x - mean)/𝜎\n",
    "z1 = (.2485 - .2500)/.0005\n",
    "z2 = (.2515 - .2500)/.0005\n",
    "\n",
    "# P ( 0.2485 < X <0.2515 ) = P(−3 <Z < 3)\n",
    "# p = p(z < 3) - p(z>-3)\n",
    "p = 0.9987 - 0.0013\n",
    "p"
   ]
  },
  {
   "cell_type": "markdown",
   "metadata": {},
   "source": [
    "***Conclusion:***<br>\n",
    "As the mean is moving towards the targeted value,the probability is moving towards 1"
   ]
  },
  {
   "cell_type": "code",
   "execution_count": null,
   "metadata": {},
   "outputs": [],
   "source": []
  }
 ],
 "metadata": {
  "kernelspec": {
   "display_name": "Python 3",
   "language": "python",
   "name": "python3"
  },
  "language_info": {
   "codemirror_mode": {
    "name": "ipython",
    "version": 3
   },
   "file_extension": ".py",
   "mimetype": "text/x-python",
   "name": "python",
   "nbconvert_exporter": "python",
   "pygments_lexer": "ipython3",
   "version": "3.8.8"
  }
 },
 "nbformat": 4,
 "nbformat_minor": 4
}
