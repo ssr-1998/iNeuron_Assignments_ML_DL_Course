{
 "cells": [
  {
   "cell_type": "markdown",
   "metadata": {},
   "source": [
    "# Statistics Assignment 2\n",
    "### Importing Libraries"
   ]
  },
  {
   "cell_type": "code",
   "execution_count": 1,
   "metadata": {},
   "outputs": [],
   "source": [
    "import pandas as pd\n",
    "import numpy as np\n",
    "import matplotlib.pyplot as plt\n",
    "import seaborn as sns\n",
    "from scipy import stats\n",
    "%matplotlib inline"
   ]
  },
  {
   "cell_type": "markdown",
   "metadata": {},
   "source": [
    "### Problem Statement 1:\n",
    ">In each of the following situations, state whether it is a correctly stated hypothesis\n",
    "testing problem and why?\n",
    ">1. H0: μ = 25, H1: μ ≠ 25\n",
    ">2. H0: σ > 10, H1: σ = 10\n",
    ">3. H0: x = 50, H1: x ≠ 50\n",
    ">4. H0: p = 0.1, H1: p = 0.5\n",
    ">5. H0: s = 30, H1: s > 30"
   ]
  },
  {
   "cell_type": "markdown",
   "metadata": {},
   "source": [
    "### Answers:\n",
    "Correctly stated. It's a two tailed hypothesis testing whose null hypothesis states a claim and it's compliment is stated by alternate hypothesis.\n",
    "\n",
    "Incorrect. Firstly, null and alternate hypothesis combined aren't completing the entire sample space and alternate hypothesis is not complimemt of the null hypothesis. Also, equality is mostly stated in null hypothesis.\n",
    "\n",
    "Correctly stated. It's a two tailed hypothesis testing whose null hypothesis states a claim and it's compliment is stated by alternate hypothesis. Assuming x can be anything here example mean, median, mode etc. If it's a data point, we can't really test it using hypothesis testing.\n",
    "\n",
    "Incorrect. Null and alternate hypothesis combined aren't completing the entire sample space and alternate hypothesis is not complimemt of the null hypothesis.\n",
    "\n",
    "Incorrect. Null and alternate hypothesis combined aren't completing the entire sample space and alternate hypothesis is not complimemt of the null hypothesis."
   ]
  },
  {
   "cell_type": "markdown",
   "metadata": {},
   "source": [
    "### Problem Statement 2:\n",
    ">The college bookstore tells prospective students that the average cost of its textbooks is Rs. 52 with a standard deviation of Rs. 4.50. A group of smart statistics students thinks that the average cost is higher. To test the bookstore’s claim against their alternative, the students will select a random sample of size 100. Assume that the mean from their random sample is Rs. 52.80. Perform a hypothesis test at the 5% level of significance and state your decision."
   ]
  },
  {
   "cell_type": "code",
   "execution_count": 2,
   "metadata": {},
   "outputs": [
    {
     "name": "stdout",
     "output_type": "stream",
     "text": [
      "The claim made by college bookstore is correct and average cost = Rs 52 !!\n"
     ]
    }
   ],
   "source": [
    "# As the sample size is large and population std deviation is known, we will use z-test\n",
    "\n",
    "# H0 : mean = 52\n",
    "# H1 : mean != 52 \n",
    "std_err = 4.5 / np.sqrt(100)  # standard error = std deviation / (sample size)**0.5\n",
    "z_statistic = (52.8 - 52)/ std_err # z_statistic = (Sample mean - Population mean) / standard error\n",
    "\n",
    "# As this is a two tailed test with alpha = 0.05. Using, z table, we get z_critical = +1.96 and -1.96.\n",
    "\n",
    "#Our z_statistic = 1.78 which lies in the acceptance region. So, we fail to reject the null hypothesis.\n",
    "\n",
    "print(\"The claim made by college bookstore is correct and average cost = Rs 52 !!\")"
   ]
  },
  {
   "cell_type": "markdown",
   "metadata": {},
   "source": [
    "### Problem Statement 3:\n",
    ">A certain chemical pollutant in the Genesee River has been constant for several years with mean μ = 34 ppm (parts per million) and standard deviation σ = 8 ppm. A group of factory representatives whose companies discharge liquids into the river is now claiming that they have lowered the average with improved filtration devices. A group of environmentalists will test to see if this is true at the 1% level of significance. Assume that their sample of size 50 gives a mean of 32.5 ppm.<br><br>\n",
    "Perform a hypothesis test at the 1% level of significance and state your decision."
   ]
  },
  {
   "cell_type": "code",
   "execution_count": 3,
   "metadata": {},
   "outputs": [
    {
     "name": "stdout",
     "output_type": "stream",
     "text": [
      "The claim made by factory representatives is correct and average has decreased from 34ppm !!\n"
     ]
    }
   ],
   "source": [
    "# As the sample size is large and population std deviation is known, we will use z-test\n",
    "\n",
    "# H0 : mean = 34\n",
    "# H1 : mean != 34 \n",
    "std_err = 8 / np.sqrt(50)  # standard error = std deviation / (sample size)**0.5\n",
    "z_statistic = (32.5 - 34)/ std_err # z_statistic = (Sample mean - Population mean) / standard error\n",
    "\n",
    "# As this is a two tailed test with alpha = 0.01. Using, z table, we get z_critical = -2.58 and +2.58.\n",
    "\n",
    "#Our z_statistic = -1.325 which lies in the acceptance region. So, we fail to reject the null hypothesis.\n",
    "\n",
    "print(\"The claim made by factory representatives is correct and average has decreased from 34ppm !!\")"
   ]
  },
  {
   "cell_type": "code",
   "execution_count": 4,
   "metadata": {},
   "outputs": [
    {
     "name": "stdout",
     "output_type": "stream",
     "text": [
      "The claim made by factory representatives is correct and average has decreased from 34ppm !!\n"
     ]
    }
   ],
   "source": [
    "# To be more specific : Let's define a different hypothesis.\n",
    "\n",
    "# As the sample size is large and population std deviation is known, we will use z-test\n",
    "\n",
    "# H0 : mean <= 34\n",
    "# H1 : mean > 34 \n",
    "std_err = 8 / np.sqrt(50)  # standard error = std deviation / (sample size)**0.5\n",
    "z_statistic = (32.5 - 34)/ std_err # z_statistic = (Sample mean - Population mean) / standard error\n",
    "\n",
    "# As this is a right tailed test with alpha = 0.01. Using, z table, we get z_critical = 2.325.\n",
    "\n",
    "#Our z_statistic = -1.325 which lies in the acceptance region. So, we fail to reject the null hypothesis.\n",
    "\n",
    "print(\"The claim made by factory representatives is correct and average has decreased from 34ppm !!\")"
   ]
  },
  {
   "cell_type": "markdown",
   "metadata": {},
   "source": [
    "### Problem Statement 4:\n",
    ">Based on population figures and other general information on the U.S. population, suppose it has been estimated that, on average, a family of four in the U.S. spends about $1135 annually on dental expenditures. Suppose further that a regional dental association wants to test to determine if this figure is accurate for their area of country. To test this, 22 families of 4 are randomly selected from the population in that area of the country and a log is kept of the family’s dental expenditure for one year. The resulting data are given below. Assuming, that dental expenditure is normally distributed in the population, use the data and an alpha of 0.5 to test the dental association’s hypothesis.<br><br>\n",
    "1008, 812, 1117, 1323, 1308, 1415, 831, 1021, 1287, 851, 930, 730, 699, 872, 913, 944, 954, 987, 1695, 995, 1003, 994"
   ]
  },
  {
   "cell_type": "code",
   "execution_count": 5,
   "metadata": {},
   "outputs": [
    {
     "name": "stdout",
     "output_type": "stream",
     "text": [
      "So, on average a family of four in the U.S. doesn't spends about $1135 annually on dental expenditures !!\n"
     ]
    }
   ],
   "source": [
    "data = [1008, 812, 1117, 1323, 1308, 1415, 831, 1021, 1287, 851, 930, 730, 699, 872, 913, 944, 954, 987, 1695, 995, 1003, 994]\n",
    "\n",
    "sample_mean = np.mean(data)\n",
    "sample_std = np.std(data)\n",
    "\n",
    "# As the sample size is small and population std deviation is unknown, we will use t-test\n",
    "\n",
    "# H0 : mean = 1135\n",
    "# H1 : mean != 1135\n",
    "\n",
    "std_err = sample_std / np.sqrt(22)  # standard error = std deviation / (sample size)**0.5\n",
    "t_statistic = (sample_mean - 1135)/ std_err # z_statistic = (Sample mean - Population mean) / standard error\n",
    "\n",
    "# As this is a two tailed test with alpha = 0.5 and df = 21. Using, t table, we get t_critical = -0.686 and +0.686.\n",
    "\n",
    "#Our t_statistic = -2.07 which lies in the rejection region. So, we reject the null hypothesis.\n",
    "\n",
    "print(\"So, on average a family of four in the U.S. doesn't spends about $1135 annually on dental expenditures !!\")"
   ]
  },
  {
   "cell_type": "markdown",
   "metadata": {},
   "source": [
    "### Problem Statement 5:\n",
    ">In a report prepared by the Economic Research Department of a major bank the Department manager maintains that the average annual family income on Metropolis is 48,432 dollars. What do you conclude about the validity of the report if a random sample of 400 families shows and average income of 48,574 dollars with a standard deviation of 2000?"
   ]
  },
  {
   "cell_type": "code",
   "execution_count": 6,
   "metadata": {},
   "outputs": [
    {
     "name": "stdout",
     "output_type": "stream",
     "text": [
      "The claim made by  Economic Research Department of a major bank the Department manager that the average annual family income on Metropolis is 48,432 dollars is correct!!\n"
     ]
    }
   ],
   "source": [
    "# As the sample size is large and population std deviation and anything about normality of sample is unknown, we will use z-test\n",
    "\n",
    "# H0 : mean = 48432\n",
    "# H1 : mean != 48432\n",
    "std_err = 2000 / np.sqrt(400)  # standard error = std deviation / (sample size)**0.5\n",
    "z_statistic = (48574 - 48432)/ std_err # z_statistic = (Sample mean - Population mean) / standard error\n",
    "\n",
    "# As this is a two tailed test with alpha = 0.01 (Not given so taken 1%). Using, z table, we get z_critical = -2.58 and +2.58.\n",
    "\n",
    "#Our z_statistic = 1.42 which lies in the acceptance region. So, we fail to reject the null hypothesis.\n",
    "\n",
    "print(\"The claim made by  Economic Research Department of a major bank the Department manager that the average annual family income on Metropolis is 48,432 dollars is correct!!\")"
   ]
  },
  {
   "cell_type": "markdown",
   "metadata": {},
   "source": [
    "### Problem Statement 6:\n",
    ">Suppose that in past years the average price per square foot for warehouses in the United States has been 32.28 dollars. A national real estate investor wants to determine whether that figure has changed now. The investor hires a researcher who randomly samples 19 warehouses that are for sale across the United States and finds that the mean price per square foot is 31.67 dollars, with a standard deviation of $1.29. assume that the prices of warehouse footage are normally distributed in population. If the researcher uses a 5% level of significance, what statistical conclusion can be reached? What are the hypotheses?"
   ]
  },
  {
   "cell_type": "code",
   "execution_count": 7,
   "metadata": {},
   "outputs": [
    {
     "name": "stdout",
     "output_type": "stream",
     "text": [
      "The claim that is the average price per square foot for warehouses in the United States is 32.28 dollars is correct !!\n"
     ]
    }
   ],
   "source": [
    "# As the sample size is small and population std deviation is unknown, we will use t-test\n",
    "\n",
    "# H0 : mean = 32.28\n",
    "# H1 : mean != 32.28\n",
    "\n",
    "std_err = 1.29 / np.sqrt(19)  # standard error = std deviation / (sample size)**0.5\n",
    "t_statistic = (31.67 - 32.28)/ std_err # z_statistic = (Sample mean - Population mean) / standard error\n",
    "\n",
    "# As this is a right tailed test with alpha = 0.05 and df = 18. Using, t table, we get t_critical = -2.101 and 2.101.\n",
    "\n",
    "#Our t_statistic = -2.061 which lies in the acceptance region. So, we fail to reject the null hypothesis.\n",
    "\n",
    "print(\"The claim that is the average price per square foot for warehouses in the United States is 32.28 dollars is correct !!\")"
   ]
  },
  {
   "cell_type": "markdown",
   "metadata": {},
   "source": [
    "### Problem Statement 7:\n",
    ">Fill in the blank spaces in the table and draw your conclusions from it."
   ]
  },
  {
   "cell_type": "code",
   "execution_count": 8,
   "metadata": {},
   "outputs": [
    {
     "data": {
      "text/html": [
       "<div>\n",
       "<style scoped>\n",
       "    .dataframe tbody tr th:only-of-type {\n",
       "        vertical-align: middle;\n",
       "    }\n",
       "\n",
       "    .dataframe tbody tr th {\n",
       "        vertical-align: top;\n",
       "    }\n",
       "\n",
       "    .dataframe thead th {\n",
       "        text-align: right;\n",
       "    }\n",
       "</style>\n",
       "<table border=\"1\" class=\"dataframe\">\n",
       "  <thead>\n",
       "    <tr style=\"text-align: right;\">\n",
       "      <th></th>\n",
       "      <th>Values</th>\n",
       "      <th>Sample Size</th>\n",
       "      <th>Alpha</th>\n",
       "      <th>Beta at mu =50.5</th>\n",
       "      <th>Beta at mu =52</th>\n",
       "    </tr>\n",
       "  </thead>\n",
       "  <tbody>\n",
       "    <tr>\n",
       "      <th>0</th>\n",
       "      <td>(48.5, 51.5)</td>\n",
       "      <td>10</td>\n",
       "      <td>0.235680</td>\n",
       "      <td>0.728479</td>\n",
       "      <td>0.343488</td>\n",
       "    </tr>\n",
       "    <tr>\n",
       "      <th>1</th>\n",
       "      <td>(48, 52)</td>\n",
       "      <td>10</td>\n",
       "      <td>0.113846</td>\n",
       "      <td>0.858107</td>\n",
       "      <td>0.499217</td>\n",
       "    </tr>\n",
       "    <tr>\n",
       "      <th>2</th>\n",
       "      <td>(48.81, 51.19)</td>\n",
       "      <td>16</td>\n",
       "      <td>0.234046</td>\n",
       "      <td>0.709389</td>\n",
       "      <td>0.208259</td>\n",
       "    </tr>\n",
       "    <tr>\n",
       "      <th>3</th>\n",
       "      <td>(48.42, 51.58)</td>\n",
       "      <td>16</td>\n",
       "      <td>0.114107</td>\n",
       "      <td>0.841166</td>\n",
       "      <td>0.337071</td>\n",
       "    </tr>\n",
       "  </tbody>\n",
       "</table>\n",
       "</div>"
      ],
      "text/plain": [
       "           Values  Sample Size     Alpha  Beta at mu =50.5  Beta at mu =52\n",
       "0    (48.5, 51.5)           10  0.235680          0.728479        0.343488\n",
       "1        (48, 52)           10  0.113846          0.858107        0.499217\n",
       "2  (48.81, 51.19)           16  0.234046          0.709389        0.208259\n",
       "3  (48.42, 51.58)           16  0.114107          0.841166        0.337071"
      ]
     },
     "execution_count": 8,
     "metadata": {},
     "output_type": "execute_result"
    }
   ],
   "source": [
    "# Since population Standard deviation  is not given in question so I assumed it to be 4 you can change sigma \n",
    "\n",
    "#change only this \n",
    "\n",
    "from scipy.stats import norm, chi2, t\n",
    "\n",
    "stg = 4\n",
    "\n",
    "z1 = lambda x : norm.cdf((x[1] - 52)/(stg / (10)**0.5)) - norm.cdf((x[0] - 52)/(stg / (10)**0.5))\n",
    "z2 = lambda x : norm.cdf((x[1] - 50.5)/(stg / (10)**0.5)) - norm.cdf((x[0] - 50.5) / (stg / (10)**0.5))\n",
    "\n",
    "z3 = lambda x :norm.cdf((x[1] - 52)/(stg / (16)**0.5)) - norm.cdf((x[0] - 52)/(stg / (16)**0.5))\n",
    "z4 = lambda x :norm.cdf((x[1] - 50.5)/(stg / (16)**0.5)) - norm.cdf((x[0] - 50.5)/(stg / (16)**0.5))\n",
    "\n",
    "z5 = lambda x :1 -( norm.cdf((x[1] - 50)/(stg / (10)**0.5)) - norm.cdf((x[0] - 50)/(stg / (10)**0.5)))\n",
    "z6 = lambda x :1 -( norm.cdf((x[1] - 50)/(stg / (16)**0.5)) - norm.cdf((x[0] - 50)/(stg / (16)**0.5)))\n",
    "\n",
    "l1 = [(48.5,51.5), (48,52)]\n",
    "l2 = [(48.81,51.19), (48.42,51.58)]\n",
    "\n",
    "al1 = list(map(z5 ,l1))\n",
    "al2 = list(map(z6 ,l2))\n",
    "\n",
    "\n",
    "m1 = list(map(z1 ,l1))\n",
    "m2 = list(map(z2 ,l1))\n",
    "\n",
    "m3 = list(map(z3 ,l2))\n",
    "m4 = list(map(z4 ,l2))\n",
    "\n",
    "al1.extend(al2)\n",
    "m1.extend(m3)\n",
    "m2.extend(m4)\n",
    "l1.extend(l2)\n",
    "\n",
    "import pandas as pd\n",
    "df = pd.DataFrame()\n",
    "\n",
    "df[\"Values\"] = l1\n",
    "df['Sample Size'] = [10,10,16,16]\n",
    "df['Alpha'] = al1\n",
    "df['Beta at mu =50.5'] = m2\n",
    "df['Beta at mu =52'] = m1\n",
    "df"
   ]
  },
  {
   "cell_type": "markdown",
   "metadata": {},
   "source": [
    "### Problem Statement 8:\n",
    ">Find the t-score for a sample size of 16 taken from a population with mean 10 when the sample mean is 12 and the sample standard deviation is 1.5."
   ]
  },
  {
   "cell_type": "code",
   "execution_count": 9,
   "metadata": {},
   "outputs": [
    {
     "name": "stdout",
     "output_type": "stream",
     "text": [
      "t-score : 5.33\n"
     ]
    }
   ],
   "source": [
    "std_err = 1.5 / (16)**0.5\n",
    "t_score = (12 - 10) / std_err\n",
    "\n",
    "print(f\"t-score : {round(t_score,2)}\")"
   ]
  },
  {
   "cell_type": "markdown",
   "metadata": {},
   "source": [
    "### Problem Statement 9:\n",
    ">Find the t-score below which we can expect 99% of sample means will fall if samples of size 16 are taken from a normally distributed population."
   ]
  },
  {
   "cell_type": "code",
   "execution_count": 10,
   "metadata": {},
   "outputs": [
    {
     "name": "stdout",
     "output_type": "stream",
     "text": [
      "t-score : 2.602\n"
     ]
    }
   ],
   "source": [
    "df = 15 # Degree of Freedom\n",
    "alpha = 0.01 # one tailed\n",
    "\n",
    "print(\"t-score : 2.602\")"
   ]
  },
  {
   "cell_type": "markdown",
   "metadata": {},
   "source": [
    "### Problem Statement 10:\n",
    ">If a random sample of size 25 drawn from a normal population gives a mean of 60 and a standard deviation of 4, find the range of t-scores where we can expect to find the middle 95% of all sample means. Compute the probability that (−t0.05 <t<t0.10)."
   ]
  },
  {
   "cell_type": "code",
   "execution_count": 11,
   "metadata": {},
   "outputs": [],
   "source": [
    "sample_mean = 60\n",
    "sample_size = 25\n",
    "sample_std = 4\n",
    "\n",
    "std_err = sample_std / (sample_size)**0.5\n",
    "\n",
    "#t_score = (sample_mean - population_mean) / std_err\n",
    "\n",
    "#For, df = 24 and alpha = 0.05 for a two tailed test because we need middle 95%: t_critical = -2.064 to 2.064\n",
    "\n",
    "#Part b)\n",
    "\n",
    "# Since, t0.1 leaves an area of 0.1 in the right and -t0.05 leaves an area of 0.05 in the left. So, \n",
    "# P(−t0.05 < t < t0.10) = 1 - 0.1 - 0.05 = 0.85"
   ]
  },
  {
   "cell_type": "markdown",
   "metadata": {},
   "source": [
    "### Problem Statement 11:\n",
    ">Two-tailed test for difference between two population means Is there evidence to conclude that the number of people travelling from Bangalore to Chennai is different from the number of people travelling from Bangalore to Hosur in a week, given the following:<br><br>\n",
    "Population 1: Bangalore to Chennai n1 = 1200<br>\n",
    "x1 = 452<br>\n",
    "s1 = 212<br><br>\n",
    "Population 2: Bangalore to Hosur n2 = 800<br>\n",
    "x2 = 523<br>\n",
    "s2 = 185"
   ]
  },
  {
   "cell_type": "code",
   "execution_count": 12,
   "metadata": {},
   "outputs": [
    {
     "name": "stdout",
     "output_type": "stream",
     "text": [
      "So, our z_statistic is too high or we can say it's p value is approximately zero. So, for any significance level, we can reject the null hypothesis !!\n"
     ]
    }
   ],
   "source": [
    "# Hypothesis Testing :\n",
    "# H0: μ1 = μ2\n",
    "# H1: μ1 ≠ μ2 \n",
    "\n",
    "# As sample size is large, we will use z test:# As sample size is large, we will use z test:\n",
    "\n",
    "std_err = (((212)**2 / 1200) + ((185)**2) / 800)**0.5\n",
    "\n",
    "z_statistic = (523 - 452) / std_err\n",
    "\n",
    "print(\"So, our z_statistic is too high or we can say it's p value is approximately zero. So, for any significance level, we can reject the null hypothesis !!\")"
   ]
  },
  {
   "cell_type": "markdown",
   "metadata": {},
   "source": [
    "### Problem Statement 12:\n",
    ">Is there evidence to conclude that the number of people preferring Duracell battery is different from the number of people preferring Energizer battery, given the following:<br><br>\n",
    "Population 1: Duracell<br>\n",
    "n1 = 100 x1 = 308 s1 = 84<br><br>\n",
    "Population 2: Energizer<br>\n",
    "n2 = 100 x2 = 254 s2 = 67"
   ]
  },
  {
   "cell_type": "code",
   "execution_count": 13,
   "metadata": {},
   "outputs": [
    {
     "name": "stdout",
     "output_type": "stream",
     "text": [
      "So, our z_statistic is too high or we can say it's p value is approximately zero.\n",
      "So, for any significance level, we can reject the null hypothesis i.e number of people using both are different !!\n"
     ]
    }
   ],
   "source": [
    "# Hypothesis Testing :\n",
    "# H0: μ1 = μ2\n",
    "# H1: μ1 ≠ μ2 \n",
    "\n",
    "# As sample size is large, we will use z test:\n",
    "\n",
    "std_err = (((84)**2 / 10) + ((67)**2 / 100))**0.5\n",
    "\n",
    "z_statistic = (308 - 254) / std_err\n",
    "\n",
    "print(\"So, our z_statistic is too high or we can say it's p value is approximately zero.\")\n",
    "print(\"So, for any significance level, we can reject the null hypothesis i.e number of people using both are different !!\")"
   ]
  },
  {
   "cell_type": "markdown",
   "metadata": {},
   "source": [
    "### Problem Statement 13:\n",
    ">Pooled estimate of the population variance. Does the data provide sufficient evidence to conclude that average percentage increase in the price of sugar differs when it is sold at two different prices?<br><br>\n",
    "Population 1: Price of sugar = Rs. 27.50 n1 = 14<br>\n",
    "x1 = 0.317% s1 = 0.12%<br><br>\n",
    "Population 2: Price of sugar = Rs. 20.00 n2 = 9<br>\n",
    "x2 = 0.21% s2 = 0.11%"
   ]
  },
  {
   "cell_type": "code",
   "execution_count": 14,
   "metadata": {},
   "outputs": [
    {
     "name": "stdout",
     "output_type": "stream",
     "text": [
      "So, there's insufficient evidence to conclude anything !!\n",
      "But Null hypothesis can be rejected at 5% level of significance\n"
     ]
    }
   ],
   "source": [
    "# Hypothesis Testing :\n",
    "# H0: avg1 = avg2\n",
    "# H1: avg1 ≠ avg2 \n",
    "\n",
    "# As sample size is small, we will use t test:\n",
    "\n",
    "Sp = (((13* (0.12)**2) + (8 * (0.11)**2)) / 21)**0.5  # Sp = ((n1 * s1^2 + n2 * s2^2) / n1+n2-2) ^ 0.5\n",
    "\n",
    "std_err = Sp * ((1/14) + (1/9))**0.5 # std_err = Sp * (1/n1 + 1/n2)**0.5\n",
    "\n",
    "t_statistic = (0.317 - 0.21) / std_err\n",
    "df = 21\n",
    "# As t_statistic is coming 2.153. So, we will need level of significance in order to make a claim.\n",
    "\n",
    "print(\"So, there's insufficient evidence to conclude anything !!\")\n",
    "\n",
    "#df = 21 and aplha = 0.05, t_critical = 2.08\n",
    "print(\"But Null hypothesis can be rejected at 5% level of significance\")"
   ]
  },
  {
   "cell_type": "markdown",
   "metadata": {},
   "source": [
    "### Problem Statement 14:\n",
    ">The manufacturers of compact disk players want to test whether a small price reduction is enough to increase sales of their product. Is there evidence that the small price reduction is enough to increase sales of compact disk players?<br><br>\n",
    "Population 1: Before reduction<br>\n",
    "n1 = 15 x1 = Rs. 6598 s1 = Rs. 844<br><br>\n",
    "Population 2: After reduction<br>\n",
    "n2 = 12 *x2 = RS. 6870 s2 = Rs. 669"
   ]
  },
  {
   "cell_type": "code",
   "execution_count": 15,
   "metadata": {},
   "outputs": [
    {
     "name": "stdout",
     "output_type": "stream",
     "text": [
      "So, even at 10% level of significance, we cannot reject the null hypothesis!!\n"
     ]
    }
   ],
   "source": [
    "# Hypothesis Testing :\n",
    "# H0: μ1 >= μ2\n",
    "# H1: μ1 < μ2 \n",
    "\n",
    "# As sample size is small, we will use t test:\n",
    "\n",
    "Sp = (((14* (844)**2) + (11 * (669)**2)) / 25)**0.5  # Sp = ((n1 * s1^2 + n2 * s2^2) / n1+n2-2) ^ 0.5\n",
    "\n",
    "std_err = Sp * ((1/15) + (1/12))**0.5 # std_err = Sp * (1/n1 + 1/n2)**0.5\n",
    "\n",
    "t_statistic = (6870 - 6598) / std_err\n",
    "\n",
    "# As t_statistic is coming 0.91.\n",
    "\n",
    "#df = 25 and even if we take alpha = 0.1 i.e 10% --> t_critical = 1.316\n",
    "\n",
    "print(\"So, even at 10% level of significance, we cannot reject the null hypothesis!!\")"
   ]
  },
  {
   "cell_type": "markdown",
   "metadata": {},
   "source": [
    "### Problem Statement 15:\n",
    ">Comparisons of two population proportions when the hypothesized difference is zero. Carry out a two-tailed test of the equality of banks’ share of the car loan market in 1980 and 1995.<br><br>\n",
    "Population 1: 1980<br>\n",
    "n1 = 1000 x1 = 53 p1 = 0.53<br><br>\n",
    "Population 2: 1985<br>\n",
    "n2 = 100 x2 = 43 p2= 0.43"
   ]
  },
  {
   "cell_type": "code",
   "execution_count": 16,
   "metadata": {},
   "outputs": [
    {
     "name": "stdout",
     "output_type": "stream",
     "text": [
      "So, even at 10% level of significance, we cannot reject the null hypothesis!!\n"
     ]
    }
   ],
   "source": [
    "# Hypothesis Testing :\n",
    "# H0: p1 - p2 = 0\n",
    "# H1: p1 - p2 ≠ 0 \n",
    "\n",
    "# As sample size is large, we will use z test:\n",
    "\n",
    "p_cap = (53 + 43) / (1000 + 100)  # p_cap = (x1 + x2) / (n1 + n2)\n",
    "\n",
    "std_err = np.sqrt(p_cap * (1 - p_cap) * (1/1000 + 1/100))\n",
    "\n",
    "z_statistic = (0.53 - 0.43) / std_err\n",
    "\n",
    "# As z_statistic is coming 1.415.\n",
    "\n",
    "#even if we take alpha = 0.1 i.e 10% --> z_critical = 1.64\n",
    "\n",
    "print(\"So, even at 10% level of significance, we cannot reject the null hypothesis!!\")"
   ]
  },
  {
   "cell_type": "markdown",
   "metadata": {},
   "source": [
    "### Problem Statement 16:\n",
    ">Carry out a one-tailed test to determine whether the population proportion of traveler’s check buyers who buy at least $2500 in checks when sweepstakes prize are offered as at least 10% higher than the proportion of such buyers when no sweepstakes are on.<br><br>\n",
    "Population 1: With sweepstakes<br>\n",
    "n1 = 300 x1 = 120 p = 0.40<br><br>\n",
    "Population 2: No sweepstakes n2 = 700<br>\n",
    "x2 = 140 p 2= 0.20"
   ]
  },
  {
   "cell_type": "code",
   "execution_count": 17,
   "metadata": {},
   "outputs": [
    {
     "name": "stdout",
     "output_type": "stream",
     "text": [
      "So, even at 0.1% level of significance, we can reject the null hypothesis!!\n"
     ]
    }
   ],
   "source": [
    "# Hypothesis Testing :\n",
    "# H0: p1 - p2 <= 0.1\n",
    "# H1: p1 - p2 > 0.1\n",
    "\n",
    "# As sample size is large, we will use z test:\n",
    "n1 = 300\n",
    "x1 = 120\n",
    "p1_cap = 0.40\n",
    "n2 = 700\n",
    "x2 = 140\n",
    "p2_cap = 0.20\n",
    "\n",
    "std_err = np.sqrt((p1_cap * (1 - p1_cap) / n1) + (p2_cap * (1 - p2_cap) / n2))\n",
    "\n",
    "z_statistic = ((0.4 - 0.2) - 0.1)/ std_err\n",
    "\n",
    "# As z_statistic is coming 3.11.\n",
    "\n",
    "#even if we take alpha = 0.001 i.e 10% --> z_critical = 3.09\n",
    "\n",
    "print(\"So, even at 0.1% level of significance, we can reject the null hypothesis!!\")"
   ]
  },
  {
   "cell_type": "markdown",
   "metadata": {},
   "source": [
    "### Problem Statement 17:\n",
    ">A die is thrown 132 times with the following results: Number turned up: 1, 2, 3, 4, 5, 6<br><br>\n",
    "Frequency: 16, 20, 25, 14, 29, 28<br><br>\n",
    "Is the die unbiased? Consider the degrees of freedom as p_cap -1 ."
   ]
  },
  {
   "cell_type": "code",
   "execution_count": 18,
   "metadata": {},
   "outputs": [
    {
     "name": "stdout",
     "output_type": "stream",
     "text": [
      "We cannot reject the null hypothesis. So, our die is unbiased\n"
     ]
    }
   ],
   "source": [
    "#H0 : The die is unbiased\n",
    "#H1 : The die is biased\n",
    "\n",
    "# Here, we will use the concept of chi-square test on categorical variables.\n",
    "\n",
    "# chi_statistic = sum of ((Observed - Expected)^2 / Expected)\n",
    "\n",
    "Expected = 132 * (1/6)\n",
    "Observed = [16, 20, 25, 14, 29, 28]\n",
    "\n",
    "chi_statistic_list = []\n",
    "\n",
    "for i in Observed:\n",
    "    chi_statistic_list.append((i-Expected)**2 / Expected)\n",
    "    \n",
    "chi_statistic = sum(chi_statistic_list) # value = 9\n",
    "df = 5 #6-1\n",
    "#At 5% level of significance for 5 d.f. chi_critical = 11.07 which is > than chi_statistic\n",
    "\n",
    "print(\"We cannot reject the null hypothesis. So, our die is unbiased\")"
   ]
  },
  {
   "cell_type": "markdown",
   "metadata": {},
   "source": [
    "### Problem Statement 18:\n",
    ">In a certain town, there are about one million eligible voters. A simple random sample of 10,000 eligible voters was chosen to study the relationship between gender and participation in the last election. The results are summarized in the following 2X2 (read two by two) contingency table:<br><br>\n",
    "We would want to check whether being a man or a woman (columns) is independent of having voted in the last election (rows). In other words, is “gender and voting independent”?"
   ]
  },
  {
   "cell_type": "code",
   "execution_count": 19,
   "metadata": {},
   "outputs": [
    {
     "name": "stdout",
     "output_type": "stream",
     "text": [
      "The hypothesis that the gender and voting are independent rejected at 5% level of significance.\n"
     ]
    }
   ],
   "source": [
    "# We will use the chi-square test for this.\n",
    "\n",
    "##H0 : gender and voting are independent\n",
    "#H1 : gender and voting are dependent\n",
    "\n",
    "chi_statistic = (2792 + 3591 + 1486 + 2131) * (2792*2131 - 3591*1486)**2 / ((2792 + 3591)*(1486 + 2131)*(2792+1486)*(3591+2131))\n",
    "\n",
    "#As, chi_statistic is coming 6.66 which is greater than chi_critical (1 df and 5% sig. level) = 3.84\n",
    "\n",
    "print(\"The hypothesis that the gender and voting are independent rejected at 5% level of significance.\")"
   ]
  },
  {
   "cell_type": "code",
   "execution_count": 20,
   "metadata": {},
   "outputs": [
    {
     "data": {
      "text/plain": [
       "6.660455899328048"
      ]
     },
     "execution_count": 20,
     "metadata": {},
     "output_type": "execute_result"
    }
   ],
   "source": [
    "chi_statistic"
   ]
  },
  {
   "cell_type": "markdown",
   "metadata": {},
   "source": [
    "### Problem Statement 19:\n",
    ">A sample of 100 voters are asked which of four candidates they would vote for in an election. The number supporting each candidate is given below:<br><br>\n",
    "Do the data suggest that all candidates are equally popular?<br><br>Chi-Square = 14.96, with 3 df, p 0.05."
   ]
  },
  {
   "cell_type": "code",
   "execution_count": 21,
   "metadata": {},
   "outputs": [
    {
     "name": "stdout",
     "output_type": "stream",
     "text": [
      "so we conclude that voters do not prefer the four candidates equally.\n"
     ]
    }
   ],
   "source": [
    "#A Chi-Squared Goodness-of-Fit test is appropriate here. \n",
    "#H0: There is no preference for any of the candidates\n",
    "#So, we would expect roughly equal numbers of voters to support each candidate. \n",
    "#Our expected frequencies are therefore 100/4 = 25 per candidate.\n",
    "\n",
    "# chi_statistic = sum of ((Observed - Expected)^2 / Expected)\n",
    "\n",
    "\n",
    "Expected = 25\n",
    "Observed = [41,19,24,16]\n",
    "\n",
    "chi_statistic_list = []\n",
    "\n",
    "for i in Observed:\n",
    "    chi_statistic_list.append((i-Expected)**2 / Expected)\n",
    "    \n",
    "chi_statistic = sum(chi_statistic_list) # value = 14.96\n",
    "\n",
    "#The critical value of Chi-Square for a 0.05 significance level and 3 d.f. is 7.82. Our obtained Chi-Square value is bigger than this.\n",
    "\n",
    "print(\"so we conclude that voters do not prefer the four candidates equally.\")"
   ]
  },
  {
   "cell_type": "markdown",
   "metadata": {},
   "source": [
    "### Problem Statement 20:\n",
    ">Children of three ages are asked to indicate their preference for three photographs of adults. Do the data suggest that there is a significant relationship between age and photograph preference? What is wrong with this study? [Chi-Square = 29.6, with 4 df: p < 0.05].<br><br>\n",
    "\n",
    "### Answer:\n",
    "A Chi-Squared Goodness-of-Fit test is appropriate here. Firstly, lets calculate row, column and grand totals.\n",
    "\n",
    "Then, Work out the expected frequencies, using the formula:\n",
    "\n",
    "     (row total*column total)\n",
    "E = --------------------------------------\n",
    "     grand total\n",
    "chi_statistic = sum((O-E)^2 / E)\n",
    "\n",
    "chi_statistic = 29.6 # After calculation\n",
    "\n",
    "df = (columns-1) (rows-1) = 22 = 4\n",
    "\n",
    "The critical value of Chi-Square in the table for a 0.001 significance level and 4 d.f. is 18.46. Our obtained Chi-Square value is bigger than this: therefore we have a Chi-Square value which is so large that it would occur by chance only about once in a thousand times. It seems more reasonable to accept the alternative hypothesis, that there is a significant relationship between age of child and photograph preference."
   ]
  },
  {
   "cell_type": "markdown",
   "metadata": {},
   "source": [
    "### Problem Statement 21:\n",
    ">A study of conformity using the Asch paradigm involved two conditions: one where one confederate supported the true judgement and another where no confederate gave the correct response.\n",
    "\n",
    "### Answer:\n",
    "A Chi-Squared Goodness-of-Fit test is appropriate here. Firstly, lets calculate row, column and grand totals.\n",
    "\n",
    "Then, Work out the expected frequencies, using the formula:\n",
    "\n",
    "     (row total*column total)\n",
    "E = --------------------------------------\n",
    "     grand total\n",
    "chi_statistic = sum((O-E)^2 / E)\n",
    "\n",
    "chi_statistic = 18.1 # After calculation df = (columns-1) (rows-1) = 1*1 = 1\n",
    "\n",
    "Our obtained value of Chi-Squared is bigger than the critical value of Chi-Squared for a 0.001 significance level. In other words, there is less than a one in a thousand chance of obtaining a Chi-Square value as big as our obtained one, merely by chance. Therefore we can conclude that there is a significant difference between the \"support\" and \"no support\" conditions, in terms of the frequency with which individuals conformed."
   ]
  },
  {
   "cell_type": "markdown",
   "metadata": {},
   "source": [
    "### Problem Statement 22:\n",
    ">We want to test whether short people differ with respect to their leadership qualities (Genghis Khan, Adolf Hitler and Napoleon were all stature-deprived, and how many midget MP's are there?) The following table shows the frequencies with which 43 short people and 52 tall people were categorized as \"leaders\", \"followers\" or as \"unclassifiable\". Is there a relationship between height and leadership qualities? [Chi-Square = 10.71, with 2 df: p < 0.01].\n",
    "\n",
    "### Answer:\n",
    "A Chi-Squared Goodness-of-Fit test is appropriate here. Firstly, lets calculate row, column and grand totals.\n",
    "\n",
    "Then, Work out the expected frequencies, using the formula:\n",
    "\n",
    "     (row total*column total)\n",
    "E = --------------------------------------\n",
    "     grand total\n",
    "chi_statistic = sum((O-E)^2 / E)\n",
    "\n",
    "chi_statistic = 10.712 with 2 d.f.\n",
    "\n",
    "10.712 is bigger than the tabulated value of Chi-Square at the 0.01 significance level. We would conclude that there seems to be a relationship between height and leadership qualities."
   ]
  },
  {
   "cell_type": "markdown",
   "metadata": {},
   "source": [
    "### Problem Statement 23:\n",
    ">Each respondent in the Current Population Survey of March 1993 was classified as employed, unemployed, or outside the labor force. The results for men in California age 35- 44 can be cross-tabulated by marital status, as follows:<br><br>\n",
    "Men of different marital status seem to have different distributions of labor force status. Or is this just chance variation? (you may assume the table results from a simple random sample.)\n",
    "\n",
    "### Answer:\n",
    "A Chi-Squared Goodness-of-Fit test is appropriate here.\n",
    "\n",
    "Firstly, lets calculate row, column and grand totals.\n",
    "\n",
    "Then, Work out the expected frequencies, using the formula:\n",
    "\n",
    "     (row total*column total)\n",
    "E = --------------------------------------\n",
    "     grand total\n",
    "chi_statistic = sum((O-E)^2 / E)\n",
    "\n",
    "chi_statistic is coming very large as compared to the values for any significance level at df = 4.\n",
    "\n",
    "So, it can be concluded that yes, Men of different marital status seem to have different distributions of labor force status.\n",
    "\n"
   ]
  },
  {
   "cell_type": "markdown",
   "metadata": {},
   "source": [
    "# Done!"
   ]
  },
  {
   "cell_type": "code",
   "execution_count": null,
   "metadata": {},
   "outputs": [],
   "source": []
  }
 ],
 "metadata": {
  "kernelspec": {
   "display_name": "Python 3",
   "language": "python",
   "name": "python3"
  },
  "language_info": {
   "codemirror_mode": {
    "name": "ipython",
    "version": 3
   },
   "file_extension": ".py",
   "mimetype": "text/x-python",
   "name": "python",
   "nbconvert_exporter": "python",
   "pygments_lexer": "ipython3",
   "version": "3.8.8"
  }
 },
 "nbformat": 4,
 "nbformat_minor": 4
}
