{
 "cells": [
  {
   "cell_type": "markdown",
   "metadata": {},
   "source": [
    "# Python Assignment 3"
   ]
  },
  {
   "cell_type": "markdown",
   "metadata": {},
   "source": [
    "### Program 1.1 -\n",
    ">Write a Python Program to implement your own myreduce() function which works exactly like\n",
    "Python's built-in function reduce()."
   ]
  },
  {
   "cell_type": "code",
   "execution_count": 1,
   "metadata": {},
   "outputs": [],
   "source": [
    "def myreduce(func, iterable):\n",
    "    x = iterable[0]\n",
    "    for i in range(1, len(iterable)):\n",
    "        y = iterable[i]\n",
    "        x = func(x, y)\n",
    "    return x"
   ]
  },
  {
   "cell_type": "code",
   "execution_count": 2,
   "metadata": {},
   "outputs": [
    {
     "name": "stdout",
     "output_type": "stream",
     "text": [
      "100\n"
     ]
    }
   ],
   "source": [
    "\"\"\"Trial 1 :-\"\"\"\n",
    "\n",
    "\n",
    "def add(p, q):\n",
    "    return p + q\n",
    "\n",
    "\n",
    "l1 = [10, 15, 25, 40, 10]\n",
    "print(myreduce(add, l1))"
   ]
  },
  {
   "cell_type": "code",
   "execution_count": 3,
   "metadata": {},
   "outputs": [
    {
     "name": "stdout",
     "output_type": "stream",
     "text": [
      "6\n"
     ]
    }
   ],
   "source": [
    "\"\"\"Trial 2 :-\"\"\"\n",
    "w = [1, 3, 5, 6, 2]\n",
    "print(myreduce(lambda a, b: a if a > b else b, w))"
   ]
  },
  {
   "cell_type": "markdown",
   "metadata": {},
   "source": [
    "### Program 1.2 -\n",
    ">Write a Python Program to implement your own myfilter() function which works exactly like\n",
    "Python's built-in function filter()."
   ]
  },
  {
   "cell_type": "code",
   "execution_count": 4,
   "metadata": {},
   "outputs": [],
   "source": [
    "def myfilter(func, iterable):\n",
    "    x = []\n",
    "    for i in range(len(iterable)):\n",
    "        if func(iterable[i]):\n",
    "            x.append(iterable[i])\n",
    "        else:\n",
    "            pass\n",
    "    return x"
   ]
  },
  {
   "cell_type": "code",
   "execution_count": 5,
   "metadata": {},
   "outputs": [
    {
     "name": "stdout",
     "output_type": "stream",
     "text": [
      "[2, 4]\n"
     ]
    }
   ],
   "source": [
    "\"\"\"Trial 1 :-\"\"\"\n",
    "\n",
    "L = [1, 2, 3, 4, 5]\n",
    "print(list(myfilter(lambda a: a % 2 == 0, L)))"
   ]
  },
  {
   "cell_type": "code",
   "execution_count": 6,
   "metadata": {},
   "outputs": [
    {
     "name": "stdout",
     "output_type": "stream",
     "text": [
      "['e', 'e', 'i']\n"
     ]
    }
   ],
   "source": [
    "\"\"\"Trial 2 :-\"\"\"\n",
    "\n",
    "\n",
    "def fun(var):\n",
    "    letters = [\"a\", \"e\", \"i\", \"o\", \"u\"]\n",
    "    if var in letters:\n",
    "        return True\n",
    "    else:\n",
    "        return False\n",
    "\n",
    "\n",
    "l1 = ['g', 'e', 'e', \"j\", \"k\", \"s\", \"p\", \"r\", \"i\"]\n",
    "print(myfilter(fun, l1))"
   ]
  },
  {
   "cell_type": "markdown",
   "metadata": {},
   "source": [
    "### Program 3 -\n",
    ">Implement List Comprehensions to produce the following lists.\n",
    "Write List Comprehensions to produce the following Lists<br>\n",
    "<br>\n",
    "3.1. ['x', 'xx', 'xxx', 'xxxx', 'y', 'yy', 'yyy', 'yyyy', 'z', 'zz', 'zzz', 'zzzz']<br>\n",
    "3.2. ['x', 'y', 'z', 'xx', 'yy', 'zz' 'xxx', 'yyy', 'zzz', 'xxxx', 'yyyy', 'zzzz']<br>\n",
    "3.3. [[2], [3], [4], [3], [4], [5], [4], [5], [6]] [[2, 3, 4, 5], [3, 4, 5, 6], [4, 5, 6, 7], [5, 6, 7, 8]]<br>\n",
    "3.4. [(1, 1), (2, 1), (3, 1), (1, 2), (2, 2), (3, 2), (1, 3), (2, 3), (3, 3)]<br>"
   ]
  },
  {
   "cell_type": "code",
   "execution_count": 7,
   "metadata": {},
   "outputs": [
    {
     "name": "stdout",
     "output_type": "stream",
     "text": [
      "Code for Task 3.1 :\n",
      "['x', 'xx', 'xxx', 'xxxx', 'y', 'yy', 'yyy', 'yyyy', 'z', 'zz', 'zzz', 'zzzz']\n",
      "\n",
      "Code for Task 3.2 :\n",
      "['x', 'y', 'z', 'xx', 'yy', 'zz', 'xxx', 'yyy', 'zzz', 'xxxx', 'yyyy', 'zzzz']\n",
      "\n",
      "Code for Task 3.3 :\n",
      "[[2], [3], [4], [3], [4], [5], [4], [5], [6]] [[2, 3, 4, 5], [3, 4, 5, 6], [4, 5, 6, 7], [5, 6, 7, 8]]\n",
      "\n",
      "Code for Task 3.4 :\n",
      "[(1, 1), (2, 1), (3, 1), (1, 2), (2, 2), (3, 2), (1, 3), (2, 3), (3, 3)]\n"
     ]
    }
   ],
   "source": [
    "print(\"Code for Task 3.1 :\")  # ['x', 'xx', 'xxx', 'xxxx', 'y', 'yy', 'yyy', 'yyyy', 'z', 'zz', 'zzz', 'zzzz']\n",
    "\n",
    "x = []\n",
    "l1 = [\"x\", \"y\", \"z\"]\n",
    "b = 0\n",
    "a = 1\n",
    "for i in range(12):\n",
    "    if a < 5:\n",
    "        x.append(l1[b]*a)\n",
    "        a += 1\n",
    "    if a == 5:\n",
    "        a = 1\n",
    "        b += 1\n",
    "print(x)\n",
    "\n",
    "print(\"\\nCode for Task 3.2 :\")  # ['x', 'y', 'z', 'xx', 'yy', 'zz' 'xxx', 'yyy', 'zzz', 'xxxx', 'yyyy', 'zzzz']\n",
    "\n",
    "l2 = []\n",
    "l1 = ['x', 'y', 'z']\n",
    "for i in range(1, 5):\n",
    "    for a in l1:\n",
    "        l2.append(a*i)\n",
    "print(l2)\n",
    "\n",
    "print(\"\\nCode for Task 3.3 :\")  # [[2], [3], [4], [3], [4], [5], [4], [5], [6]] [[2, 3, 4, 5], [3, 4, 5, 6], [4, 5, 6, 7], [5, 6, 7, 8]]\n",
    "\n",
    "x = [2, 3, 4, 5, 6, 7, 8]\n",
    "b = []\n",
    "for i in range(9):\n",
    "    if i < 3:\n",
    "        b.append([x[i]])\n",
    "    elif i < 6:  # 3 <=\n",
    "        i = i - 2\n",
    "        b.append([x[i]])\n",
    "    elif i < 9:  # 5 <=\n",
    "        i = i - 4\n",
    "        b.append([x[i]])\n",
    "print(b, end=\" \")\n",
    "\n",
    "c = []\n",
    "q = 4\n",
    "for i in range(4):\n",
    "    c.append(x[i:q])\n",
    "    q += 1\n",
    "print(c)\n",
    "\n",
    "print(\"\\nCode for Task 3.4 :\")  # [(1, 1), (2, 1), (3, 1), (1, 2), (2, 2), (3, 2), (1, 3), (2, 3), (3, 3)]\n",
    "x = []\n",
    "a = [1, 2, 3]\n",
    "p = 0\n",
    "q = 0\n",
    "for i in range(12):\n",
    "    if p < 3:\n",
    "        if i < 3:\n",
    "            x.append((a[p], a[q]))\n",
    "            p += 1\n",
    "        elif i < 7:\n",
    "            q = 1\n",
    "            x.append((a[p], a[q]))\n",
    "            p += 1\n",
    "        elif i < 11:\n",
    "            q = 2\n",
    "            x.append((a[p], a[q]))\n",
    "            p += 1\n",
    "    else:\n",
    "        p = 0\n",
    "print(x)\n"
   ]
  },
  {
   "cell_type": "code",
   "execution_count": null,
   "metadata": {},
   "outputs": [],
   "source": []
  }
 ],
 "metadata": {
  "kernelspec": {
   "display_name": "Python 3",
   "language": "python",
   "name": "python3"
  },
  "language_info": {
   "codemirror_mode": {
    "name": "ipython",
    "version": 3
   },
   "file_extension": ".py",
   "mimetype": "text/x-python",
   "name": "python",
   "nbconvert_exporter": "python",
   "pygments_lexer": "ipython3",
   "version": "3.8.8"
  }
 },
 "nbformat": 4,
 "nbformat_minor": 4
}
